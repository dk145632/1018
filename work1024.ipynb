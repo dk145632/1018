{
 "cells": [
  {
   "cell_type": "code",
   "execution_count": 48,
   "metadata": {
    "collapsed": false
   },
   "outputs": [],
   "source": [
    "# 20161018 Option Pricing 作業：把Call改成Put\n",
    "class BlackScholes :\n",
    "    # 初始化屬性\n",
    "    def __init__ (self, S0, K, T, r, Sigma, div = 0) :   \n",
    "        self.S0 = S0  \n",
    "        self.K = K \n",
    "        self.T = T  \n",
    "        self.r = r\n",
    "        self.Sigma = Sigma\n",
    "        self.div = div\n",
    "        \n",
    "    def BSM_d1(self):\n",
    "        from math import log, sqrt, exp\n",
    "        d1 = (log(S0 / K) + (r + 0.5 * Sigma ** 2) * T) / (Sigma * sqrt(T))\n",
    "        return d1\n",
    "              \n",
    "    def BSM_d2(self):\n",
    "        from math import log, sqrt, exp\n",
    "        d2 = (log(S0 / K) + (r - 0.5 * Sigma ** 2) * T) / (Sigma * sqrt(T))\n",
    "        return d2\n",
    "                 \n",
    "    # 方法：Closed-form Solution (CF)\n",
    "    def Call_Value_CF(self):\n",
    "        from math import log, sqrt, exp\n",
    "        from scipy import stats\n",
    "        d1 = self.BSM_d1()\n",
    "        d2 = self.BSM_d2()\n",
    "        \n",
    "        print('d1= ' + str(d1))\n",
    "        print('d2= ' + str(d2))\n",
    "        \n",
    "        C0 = (S0 * stats.norm.cdf(d1, 0, 1)) - K * exp(-r * T) * stats.norm.cdf(d2, 0, 1)\n",
    "        #return C0\n",
    "        ValMethod = 'CF'\n",
    "        ppp = 'Call'\n",
    "        self.display(ValMethod, C0, ppp)\n",
    "        \n",
    "    # 方法：Monte Carlo Simulation (MSC)\n",
    "    def Call_Value_MSC(self, N = 10000):\n",
    "        from numpy import random, sqrt, exp, maximum, sum\n",
    "        z = random.standard_normal(N)\n",
    "        ST = S0 * exp((r - 0.5 * Sigma ** 2) * T + Sigma * sqrt(T) * z)\n",
    "        CT = maximum(ST - K, 0)\n",
    "        C0 = exp(-r * T) * sum(CT) / N\n",
    "        #return C0\n",
    "        ValMethod = 'MSC' + ' [N =' + str(N) + ']'\n",
    "        ppp = 'Call'\n",
    "        self.display(ValMethod, C0, ppp)\n",
    "                \n",
    "    \n",
    "    def Put_Value_CF (self) :  \n",
    "        from math import log, sqrt, exp\n",
    "        from scipy import stats\n",
    "        d1 = self.BSM_d1()\n",
    "        d2 = self.BSM_d2()\n",
    "        C0 = K * exp(-r*T) * stats.norm.cdf(-d2, 0, 1) - ( S0 * stats.norm.cdf(-d1, 0, 1) )\n",
    "        ValMethod = 'CF'\n",
    "        ppp = 'Put'\n",
    "        self.display(ValMethod, C0, ppp)\n",
    "            \n",
    "    def Put_Value_MSC (self, N=10000) :\n",
    "        from numpy import random, sqrt, exp, maximum, sum\n",
    "        z = random.standard_normal(N)\n",
    "        ST = S0 * exp ( (r - 0.5 * Sigma ** 2) * T + Sigma * sqrt(T) * z )\n",
    "        CT = maximum(ST - K, 0)\n",
    "        C0 = exp(-r * T) * sum(CT) / N\n",
    "        #return P0\n",
    "        ValMethod = 'MSC' + ' [N =' + str(N) + ']'\n",
    "        ppp = 'Put'\n",
    "        self.display (ValMethod, C0, ppp)\n",
    "    \n",
    "    # 方法：顯示計算結果\n",
    "    def display (self, ValMethod, C0, ppp) :\n",
    "        print('' + ppp + '(' + ValMethod + '): ' + str(C0))"
   ]
  },
  {
   "cell_type": "code",
   "execution_count": 49,
   "metadata": {
    "collapsed": false
   },
   "outputs": [
    {
     "name": "stdout",
     "output_type": "stream",
     "text": [
      "d1= 0.10604917915283975\n",
      "d2= -0.09395082084716028\n",
      "Call(CF): 8.02135223514\n",
      "Call(MSC [N =10000]): 8.08471530905\n",
      "Call(MSC [N =100000]): 7.9964539923\n",
      "Put(CF): 7.90044180772\n",
      "Put(MSC [N =10000]): 8.18890895292\n",
      "Put(MSC [N =100000]): 8.02961790735\n"
     ]
    }
   ],
   "source": [
    "S0 = 100\n",
    "K = 105\n",
    "T = 1\n",
    "r = 0.05\n",
    "Sigma = 0.2\n",
    "N = 100000\n",
    "\n",
    "BS = BlackScholes (S0, K, T, r, Sigma)\n",
    "\n",
    "BS.Call_Value_CF()\n",
    "BS.Call_Value_MSC()\n",
    "BS.Call_Value_MSC(100000)\n",
    "\n",
    "BS.Put_Value_CF()\n",
    "BS.Put_Value_MSC()\n",
    "BS.Put_Value_MSC(100000)"
   ]
  },
  {
   "cell_type": "code",
   "execution_count": null,
   "metadata": {
    "collapsed": true
   },
   "outputs": [],
   "source": []
  },
  {
   "cell_type": "code",
   "execution_count": null,
   "metadata": {
    "collapsed": true
   },
   "outputs": [],
   "source": []
  }
 ],
 "metadata": {
  "anaconda-cloud": {},
  "kernelspec": {
   "display_name": "Python [conda root]",
   "language": "python",
   "name": "conda-root-py"
  },
  "language_info": {
   "codemirror_mode": {
    "name": "ipython",
    "version": 3
   },
   "file_extension": ".py",
   "mimetype": "text/x-python",
   "name": "python",
   "nbconvert_exporter": "python",
   "pygments_lexer": "ipython3",
   "version": "3.5.2"
  }
 },
 "nbformat": 4,
 "nbformat_minor": 1
}
